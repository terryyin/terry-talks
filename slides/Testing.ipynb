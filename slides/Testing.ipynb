{
 "metadata": {
  "name": "",
  "signature": "sha256:ff9e0b6b24ed84fa2c71515f990318ff992b78cd71c025cbb5a6da6ece929a18"
 },
 "nbformat": 3,
 "nbformat_minor": 0,
 "worksheets": [
  {
   "cells": [
    {
     "cell_type": "markdown",
     "metadata": {},
     "source": [
      "CheckiO is \"an interactive and educational game and competition platform for developers\". It turns writing code and helping others write code into a game. In the game you will solve programming problems online using Python and the result will be verified interactively by the website. I was so obssessed with the game that I actually completed ALL their current 134 missions in about one month. "
     ]
    },
    {
     "cell_type": "markdown",
     "metadata": {},
     "source": [
      "Despite my great love with CheckIO, I have to say that like most of the tranditional programming exercises, CheckIO misses the most important skill that is needed by a software developer. CheckIO still focuses on HOW to solve a problem rather than defining WHAT the problem is."
     ]
    },
    {
     "cell_type": "markdown",
     "metadata": {},
     "source": [
      "I've seen all the testing aproaches in the fields."
     ]
    },
    {
     "cell_type": "markdown",
     "metadata": {},
     "source": [
      "By the definition of ..., the \"tests\" discussed in this post are all \"checks\"."
     ]
    },
    {
     "cell_type": "markdown",
     "metadata": {},
     "source": [
      "Another way to categorize testing other than levels and black/white box."
     ]
    },
    {
     "cell_type": "markdown",
     "metadata": {},
     "source": [
      "Expectation from the tests:\n",
      "\n",
      "* Guide the development from specific to generic\n",
      "* decouple the solution, decouple the problem\n",
      "* Sanity check for the behaviour\n",
      "* Complete proof/try to have the complete proof\n",
      "* Complete proof for a linear behaviour\n",
      "\n"
     ]
    },
    {
     "cell_type": "markdown",
     "metadata": {},
     "source": [
      "TDD is not playing \"hide and seek\""
     ]
    },
    {
     "cell_type": "markdown",
     "metadata": {},
     "source": [
      "Example"
     ]
    },
    {
     "cell_type": "markdown",
     "metadata": {},
     "source": [
      "Reference model"
     ]
    },
    {
     "cell_type": "markdown",
     "metadata": {},
     "source": [
      "Interactive Test"
     ]
    },
    {
     "cell_type": "markdown",
     "metadata": {},
     "source": [
      "Randomize\n",
      "\n",
      "The last problem I solved."
     ]
    },
    {
     "cell_type": "markdown",
     "metadata": {},
     "source": [
      "Data-ize\n",
      "\n",
      "So it's rather data than logic. Should test repeat the implementation is arguable."
     ]
    },
    {
     "cell_type": "markdown",
     "metadata": {},
     "source": [
      "Test with performance constraint"
     ]
    },
    {
     "cell_type": "markdown",
     "metadata": {},
     "source": [
      "The last problem\n"
     ]
    },
    {
     "cell_type": "markdown",
     "metadata": {},
     "source": [
      "The most important programming skill that CheckIO doesn't teach you."
     ]
    },
    {
     "cell_type": "markdown",
     "metadata": {},
     "source": [
      "As I've seen, the most important exercise for a developer would be defining a problem and using the simplest solution to fulfill that definition."
     ]
    },
    {
     "cell_type": "markdown",
     "metadata": {},
     "source": [
      "Shooting backward"
     ]
    },
    {
     "cell_type": "code",
     "collapsed": false,
     "input": [],
     "language": "python",
     "metadata": {},
     "outputs": []
    }
   ],
   "metadata": {}
  }
 ]
}