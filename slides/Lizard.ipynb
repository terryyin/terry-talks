{
 "metadata": {
  "celltoolbar": "Slideshow",
  "name": "",
  "signature": "sha256:d7fb875e9f473feb9247fde39ffe1e1777e224d91d5f019fe6f93b62979b0d62"
 },
 "nbformat": 3,
 "nbformat_minor": 0,
 "worksheets": [
  {
   "cells": [
    {
     "cell_type": "heading",
     "level": 1,
     "metadata": {
      "slideshow": {
       "slide_type": "slide"
      }
     },
     "source": [
      "Python And Software Complexity"
     ]
    },
    {
     "cell_type": "markdown",
     "metadata": {},
     "source": [
      "<center><img src=\"images/logo.png\" width=30%><BR>\n",
      "http://www.lizard.ws<br>\n",
      "\n",
      "by terry@odd-e.com\n",
      "</center>\n",
      "\n"
     ]
    },
    {
     "cell_type": "markdown",
     "metadata": {
      "slideshow": {
       "slide_type": "slide"
      }
     },
     "source": [
      "<img src=\"images/stuart_turner.jpg\">\n",
      ">Is this the Python motto? -  Go FAST! Die young :P"
     ]
    },
    {
     "cell_type": "code",
     "collapsed": false,
     "input": [
      "import this"
     ],
     "language": "python",
     "metadata": {
      "slideshow": {
       "slide_type": "slide"
      }
     },
     "outputs": [
      {
       "output_type": "stream",
       "stream": "stdout",
       "text": [
        "The Zen of Python, by Tim Peters\n",
        "\n",
        "Beautiful is better than ugly.\n",
        "Explicit is better than implicit.\n",
        "Simple is better than complex.\n",
        "Complex is better than complicated.\n",
        "Flat is better than nested.\n",
        "Sparse is better than dense.\n",
        "Readability counts.\n",
        "Special cases aren't special enough to break the rules.\n",
        "Although practicality beats purity.\n",
        "Errors should never pass silently.\n",
        "Unless explicitly silenced.\n",
        "In the face of ambiguity, refuse the temptation to guess.\n",
        "There should be one-- and preferably only one --obvious way to do it.\n",
        "Although that way may not be obvious at first unless you're Dutch.\n",
        "Now is better than never.\n",
        "Although never is often better than *right* now.\n",
        "If the implementation is hard to explain, it's a bad idea.\n",
        "If the implementation is easy to explain, it may be a good idea.\n",
        "Namespaces are one honking great idea -- let's do more of those!\n"
       ]
      }
     ],
     "prompt_number": 1
    },
    {
     "cell_type": "markdown",
     "metadata": {
      "slideshow": {
       "slide_type": "slide"
      }
     },
     "source": [
      "<img src=\"images/zen.png\" width=60%>"
     ]
    },
    {
     "cell_type": "markdown",
     "metadata": {
      "slideshow": {
       "slide_type": "slide"
      }
     },
     "source": [
      "$$\n",
      "\\large Complex \\neq Complicated\n",
      "$$"
     ]
    },
    {
     "cell_type": "heading",
     "level": 2,
     "metadata": {
      "slideshow": {
       "slide_type": "slide"
      }
     },
     "source": [
      "What is Software Complexity?"
     ]
    },
    {
     "cell_type": "markdown",
     "metadata": {
      "slideshow": {
       "slide_type": "slide"
      }
     },
     "source": [
      "Writing code and maintaining code, which one is harder?"
     ]
    },
    {
     "cell_type": "markdown",
     "metadata": {
      "slideshow": {
       "slide_type": "slide"
      }
     },
     "source": [
      "Did you try your best when writing your code?"
     ]
    },
    {
     "cell_type": "markdown",
     "metadata": {
      "slideshow": {
       "slide_type": "slide"
      }
     },
     "source": [
      "Conclusion: You are not competent enough to maintain your own code. "
     ]
    },
    {
     "cell_type": "markdown",
     "metadata": {
      "slideshow": {
       "slide_type": "slide"
      }
     },
     "source": [
      "**Disclaimer**\n",
      "\n",
      "$$\n",
      "\\large Easy To Understand \\neq YouUnderstand\n",
      "$$\n"
     ]
    },
    {
     "cell_type": "heading",
     "level": 3,
     "metadata": {
      "slideshow": {
       "slide_type": "slide"
      }
     },
     "source": [
      "Cyclomatic Complexity \n"
     ]
    },
    {
     "cell_type": "markdown",
     "metadata": {},
     "source": [
      "<img src=\"images/route.tiff\" align=right>\n",
      "The cyclomatic complexity of a section of source code (functions in C) is the count of the number of linearly independent paths through the source code. For instance, \n",
      "\n",
      "* if the source code contained no decision points such as IF statements or FOR loops, the complexity would be 1\n",
      "* If the code had a single IF statement then it\u2019s 2\n",
      "* For every IF/FOR or OR/AND in the code +1\n",
      "\n",
      "Most studies find a strong positive correlation between cyclomatic complexity and defects: modules that have the highest complexity tend to also contain the most defects.\n",
      "We use 15 as the threshold for \u2018complex function\u2019, which is already a VERY BIG number. "
     ]
    },
    {
     "cell_type": "markdown",
     "metadata": {
      "slideshow": {
       "slide_type": "slide"
      }
     },
     "source": [
      "#### Install the tool\n",
      "\n",
      "`pip install lizard`"
     ]
    },
    {
     "cell_type": "code",
     "collapsed": false,
     "input": [
      "!lizard"
     ],
     "language": "python",
     "metadata": {},
     "outputs": [
      {
       "output_type": "stream",
       "stream": "stdout",
       "text": [
        "\r\n",
        "======================================\r\n",
        "!!!! Warnings (CCN > 15) !!!!\r\n",
        "========================================\r\n",
        "  NLOC    CCN   token  PARAM  location  \r\n",
        "----------------------------------------\r\n",
        "==========================================================================================\r\n",
        "Total nloc  Avg.nloc  Avg CCN  Avg token  Fun Cnt  Warning cnt   Fun Rt   nloc Rt  \r\n",
        "------------------------------------------------------------------------------------------\r\n",
        "       276         6     2.64      48.12       33            0      0.00    0.00\r\n"
       ]
      }
     ],
     "prompt_number": 51
    },
    {
     "cell_type": "code",
     "collapsed": false,
     "input": [
      "# defining a helper function\n",
      "from lizard import analyze_file\n",
      "from inspect import getsource\n",
      "from pprint import pprint\n",
      "\n",
      "def cc_of_function(func):\n",
      "    return (analyze_file.analyze_source_code(\n",
      "            \".py\",\n",
      "            inspect.getsource(func))\n",
      "                .function_list)"
     ],
     "language": "python",
     "metadata": {
      "slideshow": {
       "slide_type": "slide"
      }
     },
     "outputs": [],
     "prompt_number": 35
    },
    {
     "cell_type": "code",
     "collapsed": false,
     "input": [
      "print(cc_of_function(analyze_function)[0].cyclomatic_complexity)"
     ],
     "language": "python",
     "metadata": {},
     "outputs": [
      {
       "output_type": "stream",
       "stream": "stdout",
       "text": [
        "1\n"
       ]
      }
     ],
     "prompt_number": 36
    },
    {
     "cell_type": "markdown",
     "metadata": {
      "slideshow": {
       "slide_type": "slide"
      }
     },
     "source": [
      "Python is not Java, you don't have to put everyting in a class. Then, what's the complexity of this code?"
     ]
    },
    {
     "cell_type": "code",
     "collapsed": false,
     "input": [
      "def to_roman_numeral(n):\n",
      "    def thousands(n):\n",
      "        return ['', 'M', 'MM', 'MMM'][n/1000]\n",
      "    def hundreds(n):\n",
      "        return ['', 'C', 'CC', 'CCC', 'CD', 'D', 'DC', 'DCC', 'DCCC', 'CM'][n/100%10]\n",
      "    def tens(n):\n",
      "        return ['', 'X', 'XX', 'XXX', 'XL', 'L', 'LX', 'LXX', 'LXXX', 'XC'][n/10%10]\n",
      "    def ones(n):\n",
      "        return ['', 'I', 'II', 'III', 'IV', 'V', 'VI', 'VII', 'VIII', 'IX'][n%10]\n",
      "    return thousands(n) + hundreds(n) + tens(n) + ones(n)\n",
      "\n",
      "print to_roman_numeral(2014)"
     ],
     "language": "python",
     "metadata": {},
     "outputs": [
      {
       "output_type": "stream",
       "stream": "stdout",
       "text": [
        "MMXIV\n"
       ]
      }
     ],
     "prompt_number": 37
    },
    {
     "cell_type": "code",
     "collapsed": false,
     "input": [
      "pprint(cc_of_function(to_roman_numeral))"
     ],
     "language": "python",
     "metadata": {
      "slideshow": {
       "slide_type": "slide"
      }
     },
     "outputs": [
      {
       "output_type": "stream",
       "stream": "stdout",
       "text": [
        "[<lizard.FunctionInfo object at 0x10a8be950>,\n",
        " <lizard.FunctionInfo object at 0x10a8be850>,\n",
        " <lizard.FunctionInfo object at 0x10a8be610>,\n",
        " <lizard.FunctionInfo object at 0x10a8be590>,\n",
        " <lizard.FunctionInfo object at 0x10a8be890>]\n"
       ]
      }
     ],
     "prompt_number": 41
    },
    {
     "cell_type": "code",
     "collapsed": false,
     "input": [
      "pprint([x.cyclomatic_complexity for x in cc_of_function(to_roman_numeral)])"
     ],
     "language": "python",
     "metadata": {},
     "outputs": [
      {
       "output_type": "stream",
       "stream": "stdout",
       "text": [
        "[1, 1, 1, 1, 1]\n"
       ]
      }
     ],
     "prompt_number": 43
    },
    {
     "cell_type": "code",
     "collapsed": false,
     "input": [
      "!lizard -x*test* ~/.virtualenvs/t1/lib/python2.7/site-packages/flask"
     ],
     "language": "python",
     "metadata": {
      "slideshow": {
       "slide_type": "slide"
      }
     },
     "outputs": [
      {
       "output_type": "stream",
       "stream": "stdout",
       "text": [
        "\r\n",
        "======================================\r\n",
        "!!!! Warnings (CCN > 15) !!!!\r\n",
        "========================================\r\n",
        "  NLOC    CCN   token  PARAM  location  \r\n",
        "----------------------------------------\r\n",
        "      75     28    473      7 send_file@410-555@/Users/terry/.virtualenvs/t1/lib/python2.7/site-packages/flask/helpers.py\r\n",
        "==========================================================================================\r\n",
        "Total nloc  Avg.nloc  Avg CCN  Avg token  Fun Cnt  Warning cnt   Fun Rt   nloc Rt  \r\n",
        "------------------------------------------------------------------------------------------\r\n",
        "      2590         6     2.37      45.28      270            1      0.00    0.04\r\n"
       ]
      }
     ],
     "prompt_number": 10
    },
    {
     "cell_type": "code",
     "collapsed": false,
     "input": [
      "!lizard ~/.virtualenvs/t1/lib/python2.7/site-packages/lizard.py"
     ],
     "language": "python",
     "metadata": {
      "slideshow": {
       "slide_type": "slide"
      }
     },
     "outputs": [
      {
       "output_type": "stream",
       "stream": "stdout",
       "text": [
        "\r\n",
        "======================================\r\n",
        "!!!! Warnings (CCN > 15) !!!!\r\n",
        "========================================\r\n",
        "  NLOC    CCN   token  PARAM  location  \r\n",
        "----------------------------------------\r\n",
        "==========================================================================================\r\n",
        "Total nloc  Avg.nloc  Avg CCN  Avg token  Fun Cnt  Warning cnt   Fun Rt   nloc Rt  \r\n",
        "------------------------------------------------------------------------------------------\r\n",
        "       724         8     2.88      51.63       83            0      0.00    0.00\r\n"
       ]
      }
     ],
     "prompt_number": 11
    },
    {
     "cell_type": "code",
     "collapsed": false,
     "input": [
      "!lizard -x*test* -x*testing* ~/.virtualenvs/t1/lib/python2.7/site-packages/zmq"
     ],
     "language": "python",
     "metadata": {
      "slideshow": {
       "slide_type": "slide"
      }
     },
     "outputs": [
      {
       "output_type": "stream",
       "stream": "stdout",
       "text": [
        "\r\n",
        "======================================\r\n",
        "!!!! Warnings (CCN > 15) !!!!\r\n",
        "========================================\r\n",
        "  NLOC    CCN   token  PARAM  location  \r\n",
        "----------------------------------------\r\n",
        "      83     32    567      1 start@554-694@/Users/terry/.virtualenvs/t1/lib/python2.7/site-packages/zmq/eventloop/minitornado/ioloop.py\r\n",
        "==========================================================================================\r\n",
        "Total nloc  Avg.nloc  Avg CCN  Avg token  Fun Cnt  Warning cnt   Fun Rt   nloc Rt  \r\n",
        "------------------------------------------------------------------------------------------\r\n",
        "      4669         7     2.64      51.86      368            1      0.00    0.03\r\n"
       ]
      }
     ],
     "prompt_number": 48
    },
    {
     "cell_type": "code",
     "collapsed": false,
     "input": [
      "!lizard -x*test* -x*testing* ~/.virtualenvs/t1/lib/python2.7/site-packages/pyramid"
     ],
     "language": "python",
     "metadata": {
      "slideshow": {
       "slide_type": "slide"
      }
     },
     "outputs": [
      {
       "output_type": "stream",
       "stream": "stdout",
       "text": [
        "\r\n",
        "======================================\r\n",
        "!!!! Warnings (CCN > 15) !!!!\r\n",
        "========================================\r\n",
        "  NLOC    CCN   token  PARAM  location  \r\n",
        "----------------------------------------\r\n",
        "      58     18    337     14 setup_registry@304-412@/Users/terry/.virtualenvs/t1/lib/python2.7/site-packages/pyramid/config/__init__.py\r\n",
        "      76     17    496      4 __init__@64-143@/Users/terry/.virtualenvs/t1/lib/python2.7/site-packages/pyramid/config/settings.py\r\n",
        "      38     16    183      3 takes_one_arg@185-232@/Users/terry/.virtualenvs/t1/lib/python2.7/site-packages/pyramid/config/util.py\r\n",
        "      93     19    536      2 register@1191-1360@/Users/terry/.virtualenvs/t1/lib/python2.7/site-packages/pyramid/config/views.py\r\n",
        "     594     20    711     18 add_view@604-1398@/Users/terry/.virtualenvs/t1/lib/python2.7/site-packages/pyramid/config/views.py\r\n",
        "      96     32    662     11 copy_dir@24-148@/Users/terry/.virtualenvs/t1/lib/python2.7/site-packages/pyramid/scaffolds/copydir.py\r\n",
        "      59     22    398      6 query_interactive@172-233@/Users/terry/.virtualenvs/t1/lib/python2.7/site-packages/pyramid/scaffolds/copydir.py\r\n",
        "     110     39    734      1 run@187-337@/Users/terry/.virtualenvs/t1/lib/python2.7/site-packages/pyramid/scripts/pserve.py\r\n",
        "      40     16    273      2 prepare@226-269@/Users/terry/.virtualenvs/t1/lib/python2.7/site-packages/pyramid/httpexceptions.py\r\n",
        "     100     20    501      2 handle_request@66-183@/Users/terry/.virtualenvs/t1/lib/python2.7/site-packages/pyramid/router.py\r\n",
        "      72     16    422      2 __call__@632-727@/Users/terry/.virtualenvs/t1/lib/python2.7/site-packages/pyramid/traversal.py\r\n",
        "      38     17    218      4 _partial_application_url@78-126@/Users/terry/.virtualenvs/t1/lib/python2.7/site-packages/pyramid/url.py\r\n",
        "      86     25    471      4 resource_url@320-641@/Users/terry/.virtualenvs/t1/lib/python2.7/site-packages/pyramid/url.py\r\n",
        "==========================================================================================\r\n",
        "Total nloc  Avg.nloc  Avg CCN  Avg token  Fun Cnt  Warning cnt   Fun Rt   nloc Rt  \r\n",
        "------------------------------------------------------------------------------------------\r\n",
        "     12779         9     2.55      52.93      923           13      0.01    0.17\r\n"
       ]
      }
     ],
     "prompt_number": 49
    },
    {
     "cell_type": "code",
     "collapsed": false,
     "input": [
      "!lizard -x*test* -x*testing* -x*js ~/.virtualenvs/t1/lib/python2.7/site-packages/redis"
     ],
     "language": "python",
     "metadata": {
      "slideshow": {
       "slide_type": "slide"
      }
     },
     "outputs": [
      {
       "output_type": "stream",
       "stream": "stdout",
       "text": [
        "\r\n",
        "======================================\r\n",
        "!!!! Warnings (CCN > 15) !!!!\r\n",
        "========================================\r\n",
        "  NLOC    CCN   token  PARAM  location  \r\n",
        "----------------------------------------\r\n",
        "      35     19    278     10 sort@1215-1280@/Users/terry/.virtualenvs/t1/lib/python2.7/site-packages/redis/client.py\r\n",
        "      38     19    265      1 read_response@301-349@/Users/terry/.virtualenvs/t1/lib/python2.7/site-packages/redis/connection.py\r\n",
        "==========================================================================================\r\n",
        "Total nloc  Avg.nloc  Avg CCN  Avg token  Fun Cnt  Warning cnt   Fun Rt   nloc Rt  \r\n",
        "------------------------------------------------------------------------------------------\r\n",
        "      2749         6     2.36      45.06      346            2      0.01    0.03\r\n"
       ]
      }
     ],
     "prompt_number": 54
    },
    {
     "cell_type": "code",
     "collapsed": false,
     "input": [
      "!lizard -x*test* -x*testing* -x*js ~/.virtualenvs/t1/lib/python2.7/site-packages/django"
     ],
     "language": "python",
     "metadata": {
      "slideshow": {
       "slide_type": "slide"
      }
     },
     "outputs": [
      {
       "output_type": "stream",
       "stream": "stdout",
       "text": [
        "\r\n",
        "======================================\r\n",
        "!!!! Warnings (CCN > 15) !!!!\r\n",
        "========================================\r\n",
        "  NLOC    CCN   token  PARAM  location  \r\n",
        "----------------------------------------\r\n"
       ]
      },
      {
       "output_type": "stream",
       "stream": "stdout",
       "text": [
        "      63     23    461      3 items_for_result@176-249@/Users/terry/.virtualenvs/t1/lib/python2.7/site-packages/django/contrib/admin/templatetags/admin_list.py\r\n",
        "      68     19    554      1 date_hierarchy@291-365@/Users/terry/.virtualenvs/t1/lib/python2.7/site-packages/django/contrib/admin/templatetags/admin_list.py\r\n",
        "      31     17    230      3 lookup_allowed@281-328@/Users/terry/.virtualenvs/t1/lib/python2.7/site-packages/django/contrib/admin/options.py\r\n",
        "      78     17    657      4 add_view@1100-1184@/Users/terry/.virtualenvs/t1/lib/python2.7/site-packages/django/contrib/admin/options.py\r\n",
        "      79     17    718      5 change_view@1188-1277@/Users/terry/.virtualenvs/t1/lib/python2.7/site-packages/django/contrib/admin/options.py\r\n",
        "     113     32    823      3 changelist_view@1280-1432@/Users/terry/.virtualenvs/t1/lib/python2.7/site-packages/django/contrib/admin/options.py\r\n",
        "      44     17    275      4 label_for_field@268-319@/Users/terry/.virtualenvs/t1/lib/python2.7/site-packages/django/contrib/admin/util.py\r\n",
        "      80     17    643      3 model_detail@180-273@/Users/terry/.virtualenvs/t1/lib/python2.7/site-packages/django/contrib/admindocs/views.py\r\n",
        "      78     22    541      3 handle@49-143@/Users/terry/.virtualenvs/t1/lib/python2.7/site-packages/django/contrib/auth/management/commands/createsuperuser.py\r\n",
        "      72     18    505      3 post_comment@32-132@/Users/terry/.virtualenvs/t1/lib/python2.7/site-packages/django/contrib/comments/views/comments.py\r\n",
        "      63     19    318      5 update_contenttypes@9-84@/Users/terry/.virtualenvs/t1/lib/python2.7/site-packages/django/contrib/contenttypes/management.py\r\n",
        "      49     21    319      3 shortcut@9-82@/Users/terry/.virtualenvs/t1/lib/python2.7/site-packages/django/contrib/contenttypes/views.py\r\n",
        "      30     16    262      7 get_initkwargs@124-192@/Users/terry/.virtualenvs/t1/lib/python2.7/site-packages/django/contrib/formtools/wizard/views.py\r\n",
        "      46     23    387      6 spatial_lookup_sql@464-547@/Users/terry/.virtualenvs/t1/lib/python2.7/site-packages/django/contrib/gis/db/backends/postgis/operations.py\r\n",
        "      67     17    536      2 get_columns@15-100@/Users/terry/.virtualenvs/t1/lib/python2.7/site-packages/django/contrib/gis/db/models/sql/compiler.py\r\n",
        "      85     41    627      6 _distance_attribute@576-719@/Users/terry/.virtualenvs/t1/lib/python2.7/site-packages/django/contrib/gis/db/models/query.py\r\n",
        "      45     16    312     14 __init__@26-93@/Users/terry/.virtualenvs/t1/lib/python2.7/site-packages/django/contrib/gis/maps/google/gmap.py\r\n",
        "      54     16    360      1 check_layer@146-241@/Users/terry/.virtualenvs/t1/lib/python2.7/site-packages/django/contrib/gis/utils/layermapping.py\r\n",
        "      45     18    300      3 _save@502-568@/Users/terry/.virtualenvs/t1/lib/python2.7/site-packages/django/contrib/gis/utils/layermapping.py\r\n",
        "      66     21    429     11 _ogrinspect@118-225@/Users/terry/.virtualenvs/t1/lib/python2.7/site-packages/django/contrib/gis/utils/ogrinspect.py\r\n",
        "      99     28    632      2 get_response@74-205@/Users/terry/.virtualenvs/t1/lib/python2.7/site-packages/django/core/handlers/base.py\r\n",
        "      80     27    479      3 handle@33-139@/Users/terry/.virtualenvs/t1/lib/python2.7/site-packages/django/core/management/commands/dumpdata.py\r\n",
        "      48     23    331      1 sort_dependencies@141-214@/Users/terry/.virtualenvs/t1/lib/python2.7/site-packages/django/core/management/commands/dumpdata.py\r\n",
        "      83     26    539      2 handle_inspection@32-132@/Users/terry/.virtualenvs/t1/lib/python2.7/site-packages/django/core/management/commands/inspectdb.py\r\n",
        "      40     16    273      4 normalize_col_name@134-188@/Users/terry/.virtualenvs/t1/lib/python2.7/site-packages/django/core/management/commands/inspectdb.py\r\n",
        "      38     20    361      2 _find_fixtures@166-218@/Users/terry/.virtualenvs/t1/lib/python2.7/site-packages/django/core/management/commands/loaddata.py\r\n",
        "      94     22    549      5 process@47-151@/Users/terry/.virtualenvs/t1/lib/python2.7/site-packages/django/core/management/commands/makemessages.py\r\n",
        "      67     24    523      3 handle_noargs@203-282@/Users/terry/.virtualenvs/t1/lib/python2.7/site-packages/django/core/management/commands/makemessages.py\r\n",
        "      54     20    389      3 write_po_file@329-391@/Users/terry/.virtualenvs/t1/lib/python2.7/site-packages/django/core/management/commands/makemessages.py\r\n",
        "      95     38    776      2 handle_noargs@27-162@/Users/terry/.virtualenvs/t1/lib/python2.7/site-packages/django/core/management/commands/syncdb.py\r\n",
        "      36     19    343      1 autocomplete@275-348@/Users/terry/.virtualenvs/t1/lib/python2.7/site-packages/django/core/management/__init__.py\r\n",
        "      99     26    688      5 handle@65-182@/Users/terry/.virtualenvs/t1/lib/python2.7/site-packages/django/core/management/templates.py\r\n",
        "     270    137   2597      2 get_validation_errors@22-354@/Users/terry/.virtualenvs/t1/lib/python2.7/site-packages/django/core/management/validation.py\r\n",
        "      39     17    433      2 Deserializer@77-142@/Users/terry/.virtualenvs/t1/lib/python2.7/site-packages/django/core/serializers/python.py\r\n",
        "      78     25    587      2 runfastcgi@90-182@/Users/terry/.virtualenvs/t1/lib/python2.7/site-packages/django/core/servers/fastcgi.py\r\n",
        "      47     17    433      1 _populate@262-309@/Users/terry/.virtualenvs/t1/lib/python2.7/site-packages/django/core/urlresolvers.py\r\n",
        "      45     21    406      5 _reverse_with_prefix@396-452@/Users/terry/.virtualenvs/t1/lib/python2.7/site-packages/django/core/urlresolvers.py\r\n",
        "      23     26    241      3 convert_values@210-250@/Users/terry/.virtualenvs/t1/lib/python2.7/site-packages/django/db/backends/oracle/base.py\r\n",
        "      62     17    448      3 _create_test_db@50-116@/Users/terry/.virtualenvs/t1/lib/python2.7/site-packages/django/db/backends/oracle/creation.py\r\n",
        "      69     29    504      4 sql_create_model@40-120@/Users/terry/.virtualenvs/t1/lib/python2.7/site-packages/django/db/backends/creation.py\r\n",
        "      41     19    342      5 get_db_prep_lookup@381-427@/Users/terry/.virtualenvs/t1/lib/python2.7/site-packages/django/db/models/fields/__init__.py\r\n",
        "      28     17    314      3 __set__@330-380@/Users/terry/.virtualenvs/t1/lib/python2.7/site-packages/django/db/models/fields/related.py\r\n",
        "      39     18    368      7 get_lookup_constraint@1071-1124@/Users/terry/.virtualenvs/t1/lib/python2.7/site-packages/django/db/models/fields/related.py\r\n",
        "      61     21    538      3 as_sql@65-159@/Users/terry/.virtualenvs/t1/lib/python2.7/site-packages/django/db/models/sql/compiler.py\r\n",
        "      66     17    535      2 get_columns@177-257@/Users/terry/.virtualenvs/t1/lib/python2.7/site-packages/django/db/models/sql/compiler.py\r\n",
        "      74     24    573      1 get_ordering@333-426@/Users/terry/.virtualenvs/t1/lib/python2.7/site-packages/django/db/models/sql/compiler.py\r\n",
        "      58     21    528      7 fill_related_selections@618-694@/Users/terry/.virtualenvs/t1/lib/python2.7/site-packages/django/db/models/sql/compiler.py\r\n",
        "      35     19    329      1 results_iter@706-760@/Users/terry/.virtualenvs/t1/lib/python2.7/site-packages/django/db/models/sql/compiler.py\r\n",
        "      46     21    453      1 as_sql@843-896@/Users/terry/.virtualenvs/t1/lib/python2.7/site-packages/django/db/models/sql/compiler.py\r\n",
        "      67     21    519      3 combine@411-534@/Users/terry/.virtualenvs/t1/lib/python2.7/site-packages/django/db/models/sql/query.py\r\n",
        "      50     21    359      3 deferred_to_data@536-616@/Users/terry/.virtualenvs/t1/lib/python2.7/site-packages/django/db/models/sql/query.py\r\n",
        "      42     18    421      2 change_aliases@725-785@/Users/terry/.virtualenvs/t1/lib/python2.7/site-packages/django/db/models/sql/query.py\r\n",
        "      71     31    559      5 build_filter@1011-1147@/Users/terry/.virtualenvs/t1/lib/python2.7/site-packages/django/db/models/sql/query.py\r\n",
        "      55     16    414      5 names_to_path@1251-1329@/Users/terry/.virtualenvs/t1/lib/python2.7/site-packages/django/db/models/sql/query.py\r\n",
        "      74     29    617      4 make_atom@166-260@/Users/terry/.virtualenvs/t1/lib/python2.7/site-packages/django/db/models/sql/where.py\r\n",
        "     127     56   1002      4 __new__@58-251@/Users/terry/.virtualenvs/t1/lib/python2.7/site-packages/django/db/models/base.py\r\n",
        "      58     23    418      3 __init__@325-419@/Users/terry/.virtualenvs/t1/lib/python2.7/site-packages/django/db/models/base.py\r\n",
        "      35     21    271      5 save@489-545@/Users/terry/.virtualenvs/t1/lib/python2.7/site-packages/django/db/models/base.py\r\n",
        "      37     26    327      7 _save_table@610-657@/Users/terry/.virtualenvs/t1/lib/python2.7/site-packages/django/db/models/base.py\r\n",
        "      33     19    285      2 _get_unique_checks@763-813@/Users/terry/.virtualenvs/t1/lib/python2.7/site-packages/django/db/models/base.py\r\n",
        "      35     18    344      1 delete@240-292@/Users/terry/.virtualenvs/t1/lib/python2.7/site-packages/django/db/models/deletion.py\r\n",
        "      39     22    268      6 get_models@199-257@/Users/terry/.virtualenvs/t1/lib/python2.7/site-packages/django/db/models/loading.py\r\n",
        "      72     26    483      1 iterator@160-260@/Users/terry/.virtualenvs/t1/lib/python2.7/site-packages/django/db/models/query.py\r\n",
        "      65     30    524      6 get_klass_info@1153-1265@/Users/terry/.virtualenvs/t1/lib/python2.7/site-packages/django/db/models/query.py\r\n",
        "      69     22    398      6 get_cached_row@1268-1365@/Users/terry/.virtualenvs/t1/lib/python2.7/site-packages/django/db/models/query.py\r\n",
        "      46     17    333      1 __iter__@1382-1447@/Users/terry/.virtualenvs/t1/lib/python2.7/site-packages/django/db/models/query.py\r\n",
        "      62     22    339      2 prefetch_related_objects@1517-1630@/Users/terry/.virtualenvs/t1/lib/python2.7/site-packages/django/db/models/query.py\r\n",
        "      57     22    248      4 __exit__@283-365@/Users/terry/.virtualenvs/t1/lib/python2.7/site-packages/django/db/transaction.py\r\n",
        "      41     23    423     13 __init__@1034-1078@/Users/terry/.virtualenvs/t1/lib/python2.7/site-packages/django/forms/fields.py\r\n",
        "      51     16    359      6 _html_output@146-214@/Users/terry/.virtualenvs/t1/lib/python2.7/site-packages/django/forms/forms.py\r\n",
        "      44     29    355      9 fields_for_model@146-217@/Users/terry/.virtualenvs/t1/lib/python2.7/site-packages/django/forms/models.py\r\n",
        "      50     16    343      4 __new__@232-300@/Users/terry/.virtualenvs/t1/lib/python2.7/site-packages/django/forms/models.py\r\n",
        "      42     22    368      1 validate_unique@625-685@/Users/terry/.virtualenvs/t1/lib/python2.7/site-packages/django/forms/models.py\r\n",
        "      29     16    224      4 _get_foreign_key@908-945@/Users/terry/.virtualenvs/t1/lib/python2.7/site-packages/django/forms/models.py\r\n",
        "     102     28    638      1 parse@98-248@/Users/terry/.virtualenvs/t1/lib/python2.7/site-packages/django/http/multipartparser.py\r\n",
        "      47     19    330      2 process_request@39-104@/Users/terry/.virtualenvs/t1/lib/python2.7/site-packages/django/middleware/common.py\r\n",
        "      29     16    192      3 token_kwargs@902-949@/Users/terry/.virtualenvs/t1/lib/python2.7/site-packages/django/template/base.py\r\n",
        "      56     16    337      2 render@142-212@/Users/terry/.virtualenvs/t1/lib/python2.7/site-packages/django/template/defaulttags.py\r\n",
        "      41     16    304      3 cycle@535-628@/Users/terry/.virtualenvs/t1/lib/python2.7/site-packages/django/template/defaulttags.py\r\n",
        "      62     19    385      2 do_block_translate@370-468@/Users/terry/.virtualenvs/t1/lib/python2.7/site-packages/django/templatetags/i18n.py\r\n",
        "     154     51   1083      2 templatize@489-654@/Users/terry/.virtualenvs/t1/lib/python2.7/site-packages/django/utils/translation/trans_real.py\r\n",
        "     108     30    663      1 configure@274-418@/Users/terry/.virtualenvs/t1/lib/python2.7/site-packages/django/utils/dictconfig.py\r\n",
        "      46     21    359      2 configure_handler@459-510@/Users/terry/.virtualenvs/t1/lib/python2.7/site-packages/django/utils/dictconfig.py\r\n",
        "      51     24    399      4 urlize@213-288@/Users/terry/.virtualenvs/t1/lib/python2.7/site-packages/django/utils/html.py\r\n",
        "      32     19    205      1 is_valid_ipv6_address@144-206@/Users/terry/.virtualenvs/t1/lib/python2.7/site-packages/django/utils/ipv6.py\r\n",
        "      49     17    217      2 module_has_submodule@35-98@/Users/terry/.virtualenvs/t1/lib/python2.7/site-packages/django/utils/module_loading.py\r\n",
        "      30     16    214      6 format@6-48@/Users/terry/.virtualenvs/t1/lib/python2.7/site-packages/django/utils/numberformat.py\r\n",
        "      88     30    532      1 normalize@46-199@/Users/terry/.virtualenvs/t1/lib/python2.7/site-packages/django/utils/regex_helper.py\r\n",
        "      47     16    324      1 flatten_result@290-341@/Users/terry/.virtualenvs/t1/lib/python2.7/site-packages/django/utils/regex_helper.py\r\n",
        "      40     17    208      2 print_@573-624@/Users/terry/.virtualenvs/t1/lib/python2.7/site-packages/django/utils/six.py\r\n",
        "      62     38    374      3 inner@78-155@/Users/terry/.virtualenvs/t1/lib/python2.7/site-packages/django/views/decorators/http.py\r\n",
        "      61     19    456      1 get_traceback_data@250-318@/Users/terry/.virtualenvs/t1/lib/python2.7/site-packages/django/views/debug.py\r\n",
        "      68     31    506      3 get_javascript_catalog@187-269@/Users/terry/.virtualenvs/t1/lib/python2.7/site-packages/django/views/i18n.py\r\n",
        "==========================================================================================\r\n",
        "Total nloc  Avg.nloc  Avg CCN  Avg token  Fun Cnt  Warning cnt   Fun Rt   nloc Rt  \r\n",
        "------------------------------------------------------------------------------------------\r\n",
        "     61460         7     2.91      58.92     5654           93      0.02    0.13\r\n"
       ]
      }
     ],
     "prompt_number": 53
    },
    {
     "cell_type": "code",
     "collapsed": false,
     "input": [
      "!lizard -x*test* -x*testing* ~/.virtualenvs/t1/lib/python2.7/site-packages/pylint"
     ],
     "language": "python",
     "metadata": {
      "slideshow": {
       "slide_type": "slide"
      }
     },
     "outputs": [
      {
       "output_type": "stream",
       "stream": "stdout",
       "text": [
        "\r\n",
        "======================================\r\n",
        "!!!! Warnings (CCN > 15) !!!!\r\n",
        "========================================\r\n",
        "  NLOC    CCN   token  PARAM  location  \r\n",
        "----------------------------------------\r\n",
        "      29     22    253      2 visit_function@280-312@/Users/terry/.virtualenvs/t1/lib/python2.7/site-packages/pylint/checkers/base.py\r\n",
        "      29     17    215      2 visit_lambda@572-621@/Users/terry/.virtualenvs/t1/lib/python2.7/site-packages/pylint/checkers/base.py\r\n",
        "      25     17    232      2 visit_callfunc@695-724@/Users/terry/.virtualenvs/t1/lib/python2.7/site-packages/pylint/checkers/base.py\r\n",
        "      38     18    272      2 _check_reversed@776-823@/Users/terry/.virtualenvs/t1/lib/python2.7/site-packages/pylint/checkers/base.py\r\n",
        "      32     16    212      3 _check_accessed_members@521-570@/Users/terry/.virtualenvs/t1/lib/python2.7/site-packages/pylint/checkers/classes.py\r\n",
        "      31     16    229      2 _check_init@703-737@/Users/terry/.virtualenvs/t1/lib/python2.7/site-packages/pylint/checkers/classes.py\r\n",
        "      36     19    315      3 _check_raise_value@169-206@/Users/terry/.virtualenvs/t1/lib/python2.7/site-packages/pylint/checkers/exceptions.py\r\n",
        "      43     27    375      2 visit_tryexcept@218-271@/Users/terry/.virtualenvs/t1/lib/python2.7/site-packages/pylint/checkers/exceptions.py\r\n",
        "      42     21    300      3 _check_keyword_parentheses@202-270@/Users/terry/.virtualenvs/t1/lib/python2.7/site-packages/pylint/checkers/format.py\r\n",
        "      57     21    399      2 process_tokens@412-502@/Users/terry/.virtualenvs/t1/lib/python2.7/site-packages/pylint/checkers/format.py\r\n",
        "      56     24    391      2 visit_binop@90-167@/Users/terry/.virtualenvs/t1/lib/python2.7/site-packages/pylint/checkers/strings.py\r\n",
        "      63     29    392      2 visit_getattr@183-266@/Users/terry/.virtualenvs/t1/lib/python2.7/site-packages/pylint/checkers/typecheck.py\r\n",
        "      96     38    735      2 visit_callfunc@296-445@/Users/terry/.virtualenvs/t1/lib/python2.7/site-packages/pylint/checkers/typecheck.py\r\n",
        "      44     28    314      1 is_defined_before@138-186@/Users/terry/.virtualenvs/t1/lib/python2.7/site-packages/pylint/checkers/utils.py\r\n",
        "      48     17    250      1 parse_format_string@292-355@/Users/terry/.virtualenvs/t1/lib/python2.7/site-packages/pylint/checkers/utils.py\r\n",
        "      52     23    393      2 leave_module@198-258@/Users/terry/.virtualenvs/t1/lib/python2.7/site-packages/pylint/checkers/variables.py\r\n",
        "      36     21    262      2 leave_function@335-380@/Users/terry/.virtualenvs/t1/lib/python2.7/site-packages/pylint/checkers/variables.py\r\n",
        "      62     32    477      2 visit_name@477-566@/Users/terry/.virtualenvs/t1/lib/python2.7/site-packages/pylint/checkers/variables.py\r\n",
        "      40     17    278      5 disable@249-298@/Users/terry/.virtualenvs/t1/lib/python2.7/site-packages/pylint/utils.py\r\n",
        "==========================================================================================\r\n",
        "Total nloc  Avg.nloc  Avg CCN  Avg token  Fun Cnt  Warning cnt   Fun Rt   nloc Rt  \r\n",
        "------------------------------------------------------------------------------------------\r\n",
        "      7780        10     4.27      79.28      521           19      0.04    0.16\r\n"
       ]
      }
     ],
     "prompt_number": 44
    },
    {
     "cell_type": "code",
     "collapsed": false,
     "input": [
      "!lizard ~/.virtualenvs/t1/lib/python2.7/site-packages/pep8.py"
     ],
     "language": "python",
     "metadata": {
      "slideshow": {
       "slide_type": "slide"
      }
     },
     "outputs": [
      {
       "output_type": "stream",
       "stream": "stdout",
       "text": [
        "\r\n",
        "======================================\r\n",
        "!!!! Warnings (CCN > 15) !!!!\r\n",
        "========================================\r\n",
        "  NLOC    CCN   token  PARAM  location  \r\n",
        "----------------------------------------\r\n",
        "     154     68    952      7 continued_indentation@372-566@/Users/terry/.virtualenvs/t1/lib/python2.7/site-packages/pep8.py\r\n",
        "      78     27    278      2 missing_whitespace_around_operator@624-713@/Users/terry/.virtualenvs/t1/lib/python2.7/site-packages/pep8.py\r\n",
        "      48     17    398      3 check_all@1407-1457@/Users/terry/.virtualenvs/t1/lib/python2.7/site-packages/pep8.py\r\n",
        "      42     18    358      4 read_config@1810-1861@/Users/terry/.virtualenvs/t1/lib/python2.7/site-packages/pep8.py\r\n",
        "      39     19    319      4 process_options@1864-1910@/Users/terry/.virtualenvs/t1/lib/python2.7/site-packages/pep8.py\r\n",
        "==========================================================================================\r\n",
        "Total nloc  Avg.nloc  Avg CCN  Avg token  Fun Cnt  Warning cnt   Fun Rt   nloc Rt  \r\n",
        "------------------------------------------------------------------------------------------\r\n",
        "      1562        18     6.50     107.10       80            5      0.06    0.25\r\n"
       ]
      }
     ],
     "prompt_number": 8
    },
    {
     "cell_type": "heading",
     "level": 2,
     "metadata": {
      "slideshow": {
       "slide_type": "slide"
      }
     },
     "source": [
      "How did pep8 become so complicated?"
     ]
    },
    {
     "cell_type": "code",
     "collapsed": false,
     "input": [
      "#$ Now\n",
      "def check_all(self, expected=None, line_offset=0):\n",
      "        \"\"\"\n",
      "        Run all checks on the input file.\n",
      "        \"\"\"\n",
      "        self.expected = expected or ()\n",
      "        self.line_offset = line_offset\n",
      "        self.line_number = 0\n",
      "        self.file_errors = 0\n",
      "        self.indent_char = None\n",
      "        self.indent_level = 0\n",
      "        self.previous_logical = ''\n",
      "        self.blank_lines = 0\n",
      "        self.blank_lines_before_comment = 0\n",
      "        self.tokens = []\n",
      "        parens = 0\n",
      "        for token in self.generate_tokens():\n",
      "            if options.verbose >= 3:\n",
      "                if token[2][0] == token[3][0]:\n",
      "                    pos = '[%s:%s]' % (token[2][1] or '', token[3][1])\n",
      "                else:\n",
      "                    pos = 'l.%s' % token[3][0]\n",
      "                print(\n",
      "                    'l.%s\\t%s\\t%s\\t%r' %\n",
      "                    (token[2][0], pos, tokenize.tok_name[token[0]], token[1]))\n",
      "            self.tokens.append(token)\n",
      "            token_type, text = token[0:2]\n",
      "            if token_type == tokenize.OP:\n",
      "                if text in '([{':\n",
      "                    parens += 1\n",
      "                elif text in '}])':\n",
      "                    parens -= 1\n",
      "            elif token_type == tokenize.NEWLINE and not parens:\n",
      "                self.check_logical()\n",
      "                self.blank_lines = 0\n",
      "                self.blank_lines_before_comment = 0\n",
      "                self.tokens = []\n",
      "            elif token_type == tokenize.NL and not parens:\n",
      "                if len(self.tokens) <= 1:\n",
      "                    # The physical line contains only this token.\n",
      "                    self.blank_lines += 1\n",
      "                self.tokens = []\n",
      "            elif token_type == tokenize.COMMENT:\n",
      "                source_line = token[4]\n",
      "                token_start = token[2][1]\n",
      "                if source_line[:token_start].strip() == '':\n",
      "                    self.blank_lines_before_comment = max(\n",
      "                        self.blank_lines,\n",
      "                        self.blank_lines_before_comment)\n",
      "                    self.blank_lines = 0\n",
      "                if text.endswith('\\n') and not parens:\n",
      "                    # The comment also ends a physical line.  This works around\n",
      "                    # Python < 2.6 behaviour, which does not generate NL after\n",
      "                    # a comment which is on a line by itself.\n",
      "                    self.tokens = []\n",
      "        return self.file_errors"
     ],
     "language": "python",
     "metadata": {
      "slideshow": {
       "slide_type": "slide"
      }
     },
     "outputs": [],
     "prompt_number": 0
    },
    {
     "cell_type": "code",
     "collapsed": false,
     "input": [
      "#$ Same function 8 years ago:\n",
      "def check_all(self):\n",
      "        start, tokens, parens = None, [], 0\n",
      "        self.line_number = 0\n",
      "        self.error_count = {}\n",
      "        self.state = {}\n",
      "        for token in tokenize.generate_tokens(self.readline_check_physical):\n",
      "            tokens.append(token)\n",
      "            token_type, token_string, token_start, token_end, line = token\n",
      "            if start is None:\n",
      "                start = token_start\n",
      "            if token_type == tokenize.OP and token_string in '([{':\n",
      "                parens += 1\n",
      "            if token_type == tokenize.OP and token_string in '}])':\n",
      "                parens -= 1\n",
      "            if token_type == tokenize.NEWLINE and not parens:\n",
      "                end = token_end\n",
      "                self.check_logical(start, end, tokens)\n",
      "                start, tokens = None, []\n",
      "        return self.error_count"
     ],
     "language": "python",
     "metadata": {
      "slideshow": {
       "slide_type": "slide"
      }
     },
     "outputs": [],
     "prompt_number": 0
    },
    {
     "cell_type": "code",
     "collapsed": false,
     "input": [
      "#$ Same function 4 years 7 months ago:\n",
      "    def check_all(self):\n",
      "        self.file_errors = 0\n",
      "        self.line_number = 0\n",
      "        self.indent_char = None\n",
      "        self.indent_level = 0\n",
      "        self.previous_logical = ''\n",
      "        self.blank_lines = 0\n",
      "        self.tokens = []\n",
      "        parens = 0\n",
      "        for token in tokenize.generate_tokens(self.readline_check_physical):\n",
      "            self.tokens.append(token)\n",
      "            token_type, text = token[0:2]\n",
      "            if token_type == tokenize.OP and text in '([{':\n",
      "                parens += 1\n",
      "            if token_type == tokenize.OP and text in '}])':\n",
      "                parens -= 1\n",
      "            if token_type == tokenize.NEWLINE and not parens:\n",
      "                self.check_logical()\n",
      "                self.blank_lines = 0\n",
      "                self.tokens = []\n",
      "            if token_type == tokenize.NL and not parens:\n",
      "                if len(self.tokens) <= 1:\n",
      "                    self.blank_lines += 1\n",
      "                self.tokens = []\n",
      "            if token_type == tokenize.COMMENT:\n",
      "                source_line = token[4]\n",
      "                token_start = token[2][1]\n",
      "                if source_line[:token_start].strip() == '':\n",
      "                    self.blank_lines = 0\n",
      "                if text.endswith('\\n') and not parens:\n",
      "                    self.tokens = []\n",
      "        return self.file_errors"
     ],
     "language": "python",
     "metadata": {
      "slideshow": {
       "slide_type": "slide"
      }
     },
     "outputs": [],
     "prompt_number": 0
    },
    {
     "cell_type": "heading",
     "level": 2,
     "metadata": {
      "slideshow": {
       "slide_type": "slide"
      }
     },
     "source": [
      "Story Of Lizard"
     ]
    },
    {
     "cell_type": "markdown",
     "metadata": {},
     "source": [
      "<img src=\"images/lizardweb.png\">"
     ]
    },
    {
     "cell_type": "heading",
     "level": 2,
     "metadata": {
      "slideshow": {
       "slide_type": "slide"
      }
     },
     "source": [
      "Code Cloud"
     ]
    },
    {
     "cell_type": "markdown",
     "metadata": {
      "slideshow": {
       "slide_type": "slide"
      }
     },
     "source": [
      "!lizard -Ewordcount -x*test* flask"
     ]
    },
    {
     "cell_type": "markdown",
     "metadata": {},
     "source": [
      "<img src=\"images/flask.png\">"
     ]
    },
    {
     "cell_type": "markdown",
     "metadata": {
      "slideshow": {
       "slide_type": "slide"
      }
     },
     "source": [
      "<img src=\"images/pep8.png\">"
     ]
    },
    {
     "cell_type": "markdown",
     "metadata": {
      "slideshow": {
       "slide_type": "slide"
      }
     },
     "source": [
      "Another open source project I'm working on:\n",
      "<img src=\"images/ut.png\">"
     ]
    },
    {
     "cell_type": "heading",
     "level": 2,
     "metadata": {
      "slideshow": {
       "slide_type": "slide"
      }
     },
     "source": [
      "Next Thing I Want To Do"
     ]
    },
    {
     "cell_type": "markdown",
     "metadata": {},
     "source": [
      "CPD - Copy Paste Detector\n",
      "\n",
      "<img src=\"images/dup.png\">"
     ]
    },
    {
     "cell_type": "markdown",
     "metadata": {
      "slideshow": {
       "slide_type": "slide"
      }
     },
     "source": [
      "<img src=\"images/clone.png\">"
     ]
    },
    {
     "cell_type": "markdown",
     "metadata": {
      "slideshow": {
       "slide_type": "slide"
      }
     },
     "source": [
      "Problem with CloneDigger\n",
      "\n",
      "> Too slow"
     ]
    },
    {
     "cell_type": "heading",
     "level": 2,
     "metadata": {
      "slideshow": {
       "slide_type": "slide"
      }
     },
     "source": [
      "Style Vs. Intention"
     ]
    },
    {
     "cell_type": "markdown",
     "metadata": {},
     "source": [
      "<img src=\"images/style.png\">"
     ]
    },
    {
     "cell_type": "markdown",
     "metadata": {
      "slideshow": {
       "slide_type": "slide"
      }
     },
     "source": [
      "Thank You!"
     ]
    }
   ],
   "metadata": {}
  }
 ]
}