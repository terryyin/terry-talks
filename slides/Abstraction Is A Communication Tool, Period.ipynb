{
 "metadata": {
  "name": "",
  "signature": "sha256:bba07346bddd6ab86175f9687e649d0bd2f9ebb37aea53c43fba242d1270a39f"
 },
 "nbformat": 3,
 "nbformat_minor": 0,
 "worksheets": [
  {
   "cells": [
    {
     "cell_type": "markdown",
     "metadata": {},
     "source": [
      "Other answers are recommending Devise. Devise's own documentation says:\n",
      "\n",
      "If you are building your first Rails application, we recommend you to not use Devise. Devise requires a good understanding of the Rails Framework. In such cases, we advise you to start a simple authentication system from scratch."
     ]
    },
    {
     "cell_type": "markdown",
     "metadata": {},
     "source": [
      "David Wheeler goes: \"All problems in computer science can be solved by another level of indirection\"; Kevlin Henney's corollary: \"...except for the problem of too many layers of indirection.\""
     ]
    }
   ],
   "metadata": {}
  }
 ]
}